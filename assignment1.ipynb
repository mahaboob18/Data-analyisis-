{
  "nbformat": 4,
  "nbformat_minor": 0,
  "metadata": {
    "colab": {
      "provenance": []
    },
    "kernelspec": {
      "name": "python3",
      "display_name": "Python 3"
    },
    "language_info": {
      "name": "python"
    }
  },
  "cells": [
    {
      "cell_type": "code",
      "execution_count": 1,
      "metadata": {
        "id": "U6qEKM8hVUBP"
      },
      "outputs": [],
      "source": [
        "import numpy as np,random as rd"
      ]
    },
    {
      "cell_type": "code",
      "source": [
        "#1. what is the difference between list and array (min of 4 points )\n",
        "\n",
        "#answer)a.list is a collection datatype which stores same or different type of data but array can only store same type of data\n",
        "#       b.list has only single  dimensional  but array has n dimensional array upto 32\n",
        "#       c.computation is slow  in list but  in array computation is very fast as compared to list\n",
        "#       d.list occupies large amount of memory as dynamically allocated but in array more compact in memory size as we can mention the numpy datatype to be used\n",
        "#       e.list can be appended and size can be extended but in array once array size is created we cannot increase the size"
      ],
      "metadata": {
        "id": "2RJ3QIvYxNVA"
      },
      "execution_count": null,
      "outputs": []
    },
    {
      "cell_type": "code",
      "source": [
        "#2 Write python code to create 3d array in different ways with 15 elements.(Min of 3 ways )\n",
        "b=np.arange(1,16)\n",
        "print(\"method one :\")\n",
        "print(b.reshape(3,1,5))\n",
        "x=np.full((4,1,5),1)\n",
        "print(\"method two :\")\n",
        "print(x)\n",
        "y=np.zeros((5,1,4))\n",
        "print(\"method three :\")\n",
        "print(y)"
      ],
      "metadata": {
        "colab": {
          "base_uri": "https://localhost:8080/"
        },
        "id": "ds_9P3JU1Stk",
        "outputId": "a66f8638-5052-4ad5-b12a-8abd30222bdd"
      },
      "execution_count": null,
      "outputs": [
        {
          "output_type": "stream",
          "name": "stdout",
          "text": [
            "method one :\n",
            "[[[ 1  2  3  4  5]]\n",
            "\n",
            " [[ 6  7  8  9 10]]\n",
            "\n",
            " [[11 12 13 14 15]]]\n",
            "method two :\n",
            "[[[1 1 1 1 1]]\n",
            "\n",
            " [[1 1 1 1 1]]\n",
            "\n",
            " [[1 1 1 1 1]]\n",
            "\n",
            " [[1 1 1 1 1]]]\n",
            "method three :\n",
            "[[[0. 0. 0. 0.]]\n",
            "\n",
            " [[0. 0. 0. 0.]]\n",
            "\n",
            " [[0. 0. 0. 0.]]\n",
            "\n",
            " [[0. 0. 0. 0.]]\n",
            "\n",
            " [[0. 0. 0. 0.]]]\n"
          ]
        }
      ]
    },
    {
      "cell_type": "code",
      "source": [
        "#3 how will you prove that arrays are faster than lists,and whhy it is faster tell it in a point.\n",
        "#\n",
        "#list\n",
        "import time\n",
        "st=time.time()\n",
        "l=[]\n",
        "for y in range(1,10000000):\n",
        " l.append(y*2)\n",
        "et=time.time()\n",
        "print(\"time taken to print list :\",et-st)\n",
        "#array\n",
        "st=time.time()\n",
        "x=np.arange(1,10000000)*2\n",
        "et=time.time()\n",
        "print(\"time taken to print array :\",et-st)\n",
        "print(\"from above example we  have proved that array are faster then list\")"
      ],
      "metadata": {
        "id": "6aoI-oVOZ9fq",
        "colab": {
          "base_uri": "https://localhost:8080/"
        },
        "outputId": "4a2bda33-d7ff-40c3-a4db-c7d7ee089266"
      },
      "execution_count": null,
      "outputs": [
        {
          "output_type": "stream",
          "name": "stdout",
          "text": [
            "time taken to print list : 3.0195298194885254\n",
            "time taken to print array : 0.03105902671813965\n",
            "from above example we  have proved that array are faster then list\n"
          ]
        }
      ]
    },
    {
      "cell_type": "code",
      "source": [
        "#4 Array Creation:\n",
        "#a.Create a 4D NumPy array containing the first 12 positive integers as arr1,ofter creating check the dimension of the array and also dtype of the elements.\n",
        "#b.Create a 3D NumPy array1 with 20 random elements containing integers between 0 and 1 and make every element as string.and ofter creating check what is the shape of the array.\n",
        "arr1=np.arange(1,13).reshape(2,2,1,3)\n",
        "print(arr1)\n",
        "print(\"the dimension of the array is :\",arr1.ndim)\n",
        "print(\"the datatype of the array is :\",arr1.dtype)"
      ],
      "metadata": {
        "colab": {
          "base_uri": "https://localhost:8080/"
        },
        "id": "94VA-gyRVUiU",
        "outputId": "ac6769bd-9c41-4da0-c9d6-62c94be9273d"
      },
      "execution_count": null,
      "outputs": [
        {
          "output_type": "stream",
          "name": "stdout",
          "text": [
            "[[[[ 1  2  3]]\n",
            "\n",
            "  [[ 4  5  6]]]\n",
            "\n",
            "\n",
            " [[[ 7  8  9]]\n",
            "\n",
            "  [[10 11 12]]]]\n",
            "the dimension of the array is : 4\n",
            "the datatype of the array is : int64\n"
          ]
        }
      ]
    },
    {
      "cell_type": "code",
      "source": [
        "#b\n",
        "a=np.random.random(((4,5))).reshape(2,2,5)\n",
        "a=a.astype(\"str\")#changing the datatype to string\n",
        "print(a)\n",
        "print(\"the shape of the array is :\",a.shape)"
      ],
      "metadata": {
        "colab": {
          "base_uri": "https://localhost:8080/"
        },
        "id": "9HEFmzvgVUlD",
        "outputId": "1f93f6f2-7a7a-46d0-9b37-51fcee4991c2"
      },
      "execution_count": 12,
      "outputs": [
        {
          "output_type": "stream",
          "name": "stdout",
          "text": [
            "[[['0.5977010392652589' '0.6826093829215023' '0.38326617014564757'\n",
            "   '0.4780717431191577' '0.7850600034541854']\n",
            "  ['0.8937315799426642' '0.7417767307787082' '0.8806871209114402'\n",
            "   '0.16560344554929862' '0.23138826447965077']]\n",
            "\n",
            " [['0.8143718102539221' '0.20492453713936787' '0.44753968957002976'\n",
            "   '0.917697584514315' '0.9752642655147367']\n",
            "  ['0.7751180549516307' '0.5479581097375532' '0.12084414281502887'\n",
            "   '0.2103077748256591' '0.4035320676940123']]]\n",
            "the shape of the array is : (2, 2, 5)\n"
          ]
        }
      ]
    },
    {
      "cell_type": "code",
      "source": [
        " #5 create an array with all zeros without using np.zeros method.\n",
        "ary=np.full((4,5),0,)\n",
        "print(\"created an array with all zeros without using np.zeros method \\n\",ary)"
      ],
      "metadata": {
        "id": "UO4bEEroZ9kd",
        "colab": {
          "base_uri": "https://localhost:8080/"
        },
        "outputId": "c5d4e740-51fa-4b0d-cf56-132fd7995b05"
      },
      "execution_count": 14,
      "outputs": [
        {
          "output_type": "stream",
          "name": "stdout",
          "text": [
            "created an array with all zeros without using np.zeros method \n",
            " [[0 0 0 0 0]\n",
            " [0 0 0 0 0]\n",
            " [0 0 0 0 0]\n",
            " [0 0 0 0 0]]\n"
          ]
        }
      ]
    },
    {
      "cell_type": "code",
      "source": [
        "#6 create an array and perform all the arthamatic operations on it\n",
        "ary=np.array([10,20,30,40,50])\n",
        "print(\"addition of  array with 5 :\",np.add(ary,5))\n",
        "print(\"subtraction of the array with 5 :\",np.subtract(ary,5))\n",
        "print(\"mutlipication of the array with 5 :\",np.multiply(ary,5))\n",
        "print(\"division of the array with 10 :\",np.divide(ary,10))\n",
        "print(\"modulus of the array with 5 :\",np.mod(ary,5))\n"
      ],
      "metadata": {
        "id": "RwIMm_tIZ9pq",
        "colab": {
          "base_uri": "https://localhost:8080/"
        },
        "outputId": "3c69ea2b-6f29-4cf9-9945-6e825ee714d3"
      },
      "execution_count": 9,
      "outputs": [
        {
          "output_type": "stream",
          "name": "stdout",
          "text": [
            "addition of  array with 5 : [15 25 35 45 55]\n",
            "subtraction of the array with 5 : [ 5 15 25 35 45]\n",
            "mutlipication of the array with 5 : [ 50 100 150 200 250]\n",
            "division of the array with 10 : [1. 2. 3. 4. 5.]\n",
            "modulus of the array with 5 : [0 0 0 0 0]\n"
          ]
        }
      ]
    },
    {
      "cell_type": "code",
      "source": [
        "#7 Create a 2x2 matrix A with elements from 1 to 4 and another matrix B with elements from 5 to 8.\n",
        "#a. Add matrices A and B.\n",
        "#b. Multiply matrices A and B element-wise.\n",
        "#c. Find the dot product of matrices A and B.\n",
        "A=np.arange(1,5).reshape(2,2)\n",
        "B=np.arange(5,9).reshape(2,2)\n",
        "print(\"matrice of A :\\n\",A)\n",
        "print(\"matrice of B :\\n\",B)\n",
        "print(\"addition of matrices A and B is :\\n \",)\n",
        "print(A+B)\n",
        "print(\"multiplication of matrices A and B is :\\n \",A*B)\n",
        "array=np.dot(A,B)\n",
        "print(\"dot product of matrices A and B is : \\n\",array)"
      ],
      "metadata": {
        "colab": {
          "base_uri": "https://localhost:8080/"
        },
        "id": "PywF_fLiiUDS",
        "outputId": "6b65a940-5989-4f27-8c53-6de82196e03c"
      },
      "execution_count": 21,
      "outputs": [
        {
          "output_type": "stream",
          "name": "stdout",
          "text": [
            "matrice of A :\n",
            " [[1 2]\n",
            " [3 4]]\n",
            "matrice of B :\n",
            " [[5 6]\n",
            " [7 8]]\n",
            "addition of matrices A and B is :\n",
            " \n",
            "[[ 6  8]\n",
            " [10 12]]\n",
            "multiplication of matrices A and B is :\n",
            "  [[ 5 12]\n",
            " [21 32]]\n",
            "dot product of matrices A and B is : \n",
            " [[19 22]\n",
            " [43 50]]\n"
          ]
        }
      ]
    },
    {
      "cell_type": "code",
      "source": [
        "#8 Create a 3x3 matrix C with random integers.\n",
        "#a. Find the sum of each row in matrix C.\n",
        "#b. Find the sum of each column in matrix C.\n",
        "#c. Find the product of all elements in matrix C.\n",
        "c=np.random.randint(1,10,(3,3))\n",
        "print(\"random integers between 1,10 :\\n\",c)\n",
        "print(\"the sum of each row in matrix c :\\n\",np.sum(c,axis=1))\n",
        "print(\"the sum of each column in matrix c :\\n\",np.sum(c,axis=0))\n",
        "print(\"the product of all elements in matrix c :\\n\",np.prod(c))"
      ],
      "metadata": {
        "colab": {
          "base_uri": "https://localhost:8080/"
        },
        "id": "WhhxeWY5GScE",
        "outputId": "aa044679-5890-41a6-8fcc-312df96102fa"
      },
      "execution_count": 28,
      "outputs": [
        {
          "output_type": "stream",
          "name": "stdout",
          "text": [
            "random integers between 1,10 :\n",
            " [[6 6 5]\n",
            " [9 9 3]\n",
            " [2 8 2]]\n",
            "the sum of each row in matrix c :\n",
            " [17 21 12]\n",
            "the sum of each column in matrix c :\n",
            " [17 23 10]\n",
            "the product of all elements in matrix c :\n",
            " 1399680\n"
          ]
        }
      ]
    },
    {
      "cell_type": "code",
      "source": [
        "#9 a. Create a boolean array based on whether elements in matrix C are greater than 0.\n",
        "#  b. Use logical AND operation to find elements greater than 2 and less than 5 in matrix C.\n",
        "m=c>0\n",
        "print(\"the elements in matrix c are greater than 0 :\\n\",m)\n",
        "x=np.logical_and(c>2,c<5)\n",
        "print(\"the elements greater than 2 and less than 5 in matrix c :\\n\",x)"
      ],
      "metadata": {
        "colab": {
          "base_uri": "https://localhost:8080/"
        },
        "id": "1UBnFGFFOjh7",
        "outputId": "b650b695-3c2f-46f5-d209-e7b8abab484f"
      },
      "execution_count": 46,
      "outputs": [
        {
          "output_type": "stream",
          "name": "stdout",
          "text": [
            "the elements in matrix c are greater than 0 :\n",
            " [[ True  True  True]\n",
            " [ True  True  True]\n",
            " [ True  True  True]]\n",
            "the elements greater than 2 and less than 5 in matrix c :\n",
            " [[False False False]\n",
            " [False False  True]\n",
            " [False False False]]\n"
          ]
        }
      ]
    },
    {
      "cell_type": "code",
      "source": [
        "#10 a. Access the element in the second row and third column of matrix C.\n",
        "# b. Slice the first two columns of matrix C.\n",
        "# c. Extract all elements greater than 3 from matrix C.\n",
        "y=c[1,2]\n",
        "print(\"accesing the element in the second row and third column of matrix c :\\n\",y)\n",
        "z=c[ : , :2]\n",
        "print(\"slicing the first two colums of matrix c :\\n\",z)\n",
        "x=c[c>3]#using masking\n",
        "print(\"the elements are greter than 3 from matrix c :\\n\",x)\n",
        "\n"
      ],
      "metadata": {
        "id": "t7EjuGNwQvFp",
        "colab": {
          "base_uri": "https://localhost:8080/"
        },
        "outputId": "13284369-3fcb-48ec-93ab-3526a425afb3"
      },
      "execution_count": 45,
      "outputs": [
        {
          "output_type": "stream",
          "name": "stdout",
          "text": [
            "accesing the element in the second row and third column of matrix c :\n",
            " 3\n",
            "slicing the first two colums of matrix c :\n",
            " [[6 6]\n",
            " [9 9]\n",
            " [2 8]]\n",
            "the elements are greter than 3 from matrix c :\n",
            " [6 6 5 9 9 8]\n"
          ]
        }
      ]
    }
  ]
}