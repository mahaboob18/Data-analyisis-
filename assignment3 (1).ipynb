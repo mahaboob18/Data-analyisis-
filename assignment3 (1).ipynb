{
  "nbformat": 4,
  "nbformat_minor": 0,
  "metadata": {
    "colab": {
      "provenance": []
    },
    "kernelspec": {
      "name": "python3",
      "display_name": "Python 3"
    },
    "language_info": {
      "name": "python"
    }
  },
  "cells": [
    {
      "cell_type": "code",
      "execution_count": 49,
      "metadata": {
        "id": "Bk4kDgUplWHa"
      },
      "outputs": [],
      "source": [
        "import numpy as np\n"
      ]
    },
    {
      "cell_type": "code",
      "source": [
        "abelone=np.genfromtxt(\"/content/Abelone - abalone_data.csv\",delimiter=\",\",dtype=None,skip_header=1,encoding=\"utf-8\")"
      ],
      "metadata": {
        "id": "PNa4mq9zlq-2"
      },
      "execution_count": 50,
      "outputs": []
    },
    {
      "cell_type": "code",
      "source": [
        "#1 Calculate the average length of all the seashells (Abalone)?\n",
        "length=abelone[\"f1\"]\n",
        "avg_length=np.mean(length)\n",
        "print(\"the average length of all seashells (Abalone)\",avg_length)"
      ],
      "metadata": {
        "id": "hf8pNvKzr1xf",
        "colab": {
          "base_uri": "https://localhost:8080/"
        },
        "outputId": "26e590ed-a58e-4b74-8b9d-e926d244c0db"
      },
      "execution_count": 7,
      "outputs": [
        {
          "output_type": "stream",
          "name": "stdout",
          "text": [
            "the average length of all seashells (Abalone) 104.79841991860187\n"
          ]
        }
      ]
    },
    {
      "cell_type": "code",
      "source": [
        "#2 Calculate the minimum and maximum age in the available data?\n",
        "age=abelone[\"f8\"]\n",
        "min_age=np.min(age)\n",
        "print(\"mininmum age is : \",min_age)\n",
        "# mininmum age is :  1"
      ],
      "metadata": {
        "colab": {
          "base_uri": "https://localhost:8080/"
        },
        "id": "vnczePDQr14p",
        "outputId": "6a3e1c37-e4fe-40ea-86d1-ba869f200853"
      },
      "execution_count": 8,
      "outputs": [
        {
          "output_type": "stream",
          "name": "stdout",
          "text": [
            "mininmum age is :  1\n"
          ]
        }
      ]
    },
    {
      "cell_type": "code",
      "source": [
        "max_age=np.max(age)\n",
        "print(\"maximum age is : \",max_age)\n",
        "# maximum age is :  29"
      ],
      "metadata": {
        "colab": {
          "base_uri": "https://localhost:8080/"
        },
        "id": "8GQtWELlr2GD",
        "outputId": "b6303512-5531-4a5a-cfb1-a8948a7ce92f"
      },
      "execution_count": null,
      "outputs": [
        {
          "output_type": "stream",
          "name": "stdout",
          "text": [
            "maximum age is :  29\n"
          ]
        }
      ]
    },
    {
      "cell_type": "code",
      "source": [
        "#3 Calculate the mean of meat-weight, gut weight, and dried-shell-weight combined?\n",
        "meat_weight=abelone[\"f5\"]\n",
        "gut_weight=abelone[\"f6\"]\n",
        "dried_shell_weight=abelone[\"f7\"]\n",
        "total_weight=meat_weight+gut_weight+dried_shell_weight\n",
        "mean_total_weight=np.mean(total_weight)\n",
        "print(\"the mean of meat-weight, gut weight, and dried-shell-weight combined is :\",mean_total_weight)\n",
        "# the mean of meat-weight, gut weight, and dried-shell-weight combined is : 155.87072061288006\n"
      ],
      "metadata": {
        "colab": {
          "base_uri": "https://localhost:8080/"
        },
        "id": "1UPzcKU9r2Mz",
        "outputId": "b8a95b7f-02c3-461e-a1eb-58a0d7b9c93d"
      },
      "execution_count": 9,
      "outputs": [
        {
          "output_type": "stream",
          "name": "stdout",
          "text": [
            "the mean of meat-weight, gut weight, and dried-shell-weight combined is : 155.87072061288006\n"
          ]
        }
      ]
    },
    {
      "cell_type": "code",
      "source": [
        "#4 For all Abalones with age between [10 and 16) calculate the average of whole weight?\n",
        "age=abelone[\"f8\"]\n",
        "whole_weight=abelone[\"f4\"]\n",
        "whole_weigh_avg=np.mean(whole_weight[np.where((age<=16) & (age>=10))])\n",
        "print(\"the average of whole weight with age between[10 and 16]\",whole_weigh_avg)\n",
        "#the average of whole weight with age between[10 and 16] 214.9788023317435"
      ],
      "metadata": {
        "id": "1d4bRhtCr2TT",
        "colab": {
          "base_uri": "https://localhost:8080/"
        },
        "outputId": "17292479-3cb1-4287-e778-94639f5d5418"
      },
      "execution_count": 48,
      "outputs": [
        {
          "output_type": "stream",
          "name": "stdout",
          "text": [
            "the average of whole weight with age between[10 and 16] 214.9788023317435\n"
          ]
        }
      ]
    },
    {
      "cell_type": "code",
      "source": [
        "#5 Create and add a new column that contains the ratio of the \"dried-shell-weight\" to that of \"whole-weight\" (dried-shell-weight / whole-weight)?\n",
        "whole_weight=abelone[\"f4\"].astype(float)\n",
        "dried_shell_weight=abelone[\"f7\"].astype(float)\n",
        "#ratio=dried_shell_weight//whole_weight\n",
        "whole_weight[whole_weight==0]=0.0001\n",
        "ratio=dried_shell_weight/whole_weight\n",
        "\n",
        "print(\" the ratio of the dried-shell-weight to that of whole-weight\",ratio)\n",
        "# the ratio of the dried-shell-weight to that of whole-weight [0.29126214 0.31111111 0.31111111 ... 0.26382979 0.26940639 0.25384615]\n"
      ],
      "metadata": {
        "colab": {
          "base_uri": "https://localhost:8080/"
        },
        "id": "1PVakWuWBKwo",
        "outputId": "1abc0d9f-1ff3-4220-ded5-cb9ec3a6ae7d"
      },
      "execution_count": 11,
      "outputs": [
        {
          "output_type": "stream",
          "name": "stdout",
          "text": [
            " the ratio of the dried-shell-weight to that of whole-weight [0.29126214 0.31111111 0.31111111 ... 0.26382979 0.26940639 0.25384615]\n"
          ]
        }
      ]
    },
    {
      "cell_type": "code",
      "source": [
        " #6 Which Abelone Age has the highest average diameter?\n",
        "age=abelone[\"f8\"]\n",
        "diameter=abelone[\"f2\"].astype(float)\n",
        "for i in range(1,np.max(age)+1):\n",
        "  age_diameter=np.mean(diameter[age==i])\n",
        "highest_age=np.max(age)\n",
        "print(highest_age,\"Abelone Age has the highest average diameter \",age_diameter)\n",
        "# 29 Abelone Age has the highest average diameter  117.0"
      ],
      "metadata": {
        "colab": {
          "base_uri": "https://localhost:8080/"
        },
        "id": "-Mnnp3bTqZeo",
        "outputId": "6c6cc0f8-9869-4b1a-bacf-36dfe30e2d08"
      },
      "execution_count": 47,
      "outputs": [
        {
          "output_type": "stream",
          "name": "stdout",
          "text": [
            "29 Abelone Age has the highest average diameter  117.0\n"
          ]
        }
      ]
    },
    {
      "cell_type": "code",
      "source": [],
      "metadata": {
        "id": "dCNNs_HjqZuR"
      },
      "execution_count": 47,
      "outputs": []
    }
  ]
}