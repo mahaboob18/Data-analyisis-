{
  "nbformat": 4,
  "nbformat_minor": 0,
  "metadata": {
    "colab": {
      "provenance": []
    },
    "kernelspec": {
      "name": "python3",
      "display_name": "Python 3"
    },
    "language_info": {
      "name": "python"
    }
  },
  "cells": [
    {
      "cell_type": "code",
      "execution_count": 1,
      "metadata": {
        "id": "8BY80vl_H-LZ"
      },
      "outputs": [],
      "source": [
        "import numpy as np"
      ]
    },
    {
      "cell_type": "code",
      "source": [
        "train=np.genfromtxt(\"/content/train_extended.txt\",delimiter=\",\",skip_header=1)"
      ],
      "metadata": {
        "id": "p9Hm55zsILRW"
      },
      "execution_count": 3,
      "outputs": []
    },
    {
      "cell_type": "code",
      "source": [
        "train.shape"
      ],
      "metadata": {
        "colab": {
          "base_uri": "https://localhost:8080/"
        },
        "id": "QQHExP4JIrFS",
        "outputId": "86d8bcc5-72a0-48b4-8dc8-c608d47b8bb9"
      },
      "execution_count": 4,
      "outputs": [
        {
          "output_type": "execute_result",
          "data": {
            "text/plain": [
              "(200000, 8)"
            ]
          },
          "metadata": {},
          "execution_count": 4
        }
      ]
    },
    {
      "cell_type": "code",
      "source": [
        "#1 What is the maximum and minimum length?\n",
        "length=train[:,0:1]\n",
        "min_length=np.min(length)\n",
        "print(\"the minimum length is :\",min_length)\n",
        "# the minimum length is : 0.0"
      ],
      "metadata": {
        "colab": {
          "base_uri": "https://localhost:8080/"
        },
        "id": "Mb5zRlE3Vwbr",
        "outputId": "5e917bcd-b0a7-4bb7-d111-a805841ebe57"
      },
      "execution_count": 8,
      "outputs": [
        {
          "output_type": "stream",
          "name": "stdout",
          "text": [
            "the minimum length is : 0.0\n"
          ]
        }
      ]
    },
    {
      "cell_type": "code",
      "source": [
        "max_length=np.max(length)\n",
        "print(\"the maximum length is :\",max_length)\n",
        "# the maximum length is : 7.58349125"
      ],
      "metadata": {
        "colab": {
          "base_uri": "https://localhost:8080/"
        },
        "id": "P0QrhS6LWFE4",
        "outputId": "dd7084e5-5e29-4d46-f617-3116a239343c"
      },
      "execution_count": 9,
      "outputs": [
        {
          "output_type": "stream",
          "name": "stdout",
          "text": [
            "the maximum length is : 7.58349125\n"
          ]
        }
      ]
    },
    {
      "cell_type": "code",
      "source": [
        "2 # Find out the difference between maximum and minimum length\n",
        "diff=max_length-min_length\n",
        "print(\"the difference between maximum and minimum is :\",diff)\n",
        "# the difference between maximum and minimum is : 7.58349125"
      ],
      "metadata": {
        "colab": {
          "base_uri": "https://localhost:8080/"
        },
        "id": "zWf4kGmLWM0X",
        "outputId": "99d58a96-503a-4881-cc2b-202bd306be58"
      },
      "execution_count": 10,
      "outputs": [
        {
          "output_type": "stream",
          "name": "stdout",
          "text": [
            "the difference between maximum and minimum is : 7.58349125\n"
          ]
        }
      ]
    },
    {
      "cell_type": "code",
      "source": [
        "# 3 Find column-wise average\n",
        "avg=np.mean(train,axis=0)\n",
        "print(\"the average of all column wise average :\",avg)\n",
        "# the average of all column wise average : [ 1.31244808  1.02032036  0.34602787 23.12343631  9.98937025  4.99318096\n",
        "#  6.63422915  9.950615"
      ],
      "metadata": {
        "colab": {
          "base_uri": "https://localhost:8080/"
        },
        "id": "TCuUFI4-WM_r",
        "outputId": "c4c59fcc-efae-4b75-ed3f-44483a8b4fdd"
      },
      "execution_count": 13,
      "outputs": [
        {
          "output_type": "stream",
          "name": "stdout",
          "text": [
            "the average of all column wise average : [ 1.31244808  1.02032036  0.34602787 23.12343631  9.98937025  4.99318096\n",
            "  6.63422915  9.950615  ]\n"
          ]
        }
      ]
    },
    {
      "cell_type": "code",
      "source": [
        "#4 Find out all the age whose height is greater than 0.4.\n",
        "age=train[:,7:]\n",
        "height=train[:,2:3]\n",
        "age_height=age[height>0.4]\n",
        "print(\"the all age whose height is greater than 0.4 is :\",age_height)\n",
        "# the all age whose height is greater than 0.4 is : [11 14 13 ... 11 11 11]"
      ],
      "metadata": {
        "colab": {
          "base_uri": "https://localhost:8080/"
        },
        "id": "OXs9ihz0WNGK",
        "outputId": "b41b69d5-a13d-498b-b140-a80e166ad966"
      },
      "execution_count": 25,
      "outputs": [
        {
          "output_type": "stream",
          "name": "stdout",
          "text": [
            "the all age whose height is greater than 0.4 is : [11. 14. 13. ... 11. 11. 11.]\n"
          ]
        }
      ]
    },
    {
      "cell_type": "code",
      "source": [],
      "metadata": {
        "id": "53RdUjGYWNL6"
      },
      "execution_count": 25,
      "outputs": []
    },
    {
      "cell_type": "code",
      "source": [
        "#5 What is the average height and weight of the person whose age is 10?\n",
        "height=train[:,2:3]\n",
        "weight=train[:,3:4]\n",
        "age=train[:,7:]\n",
        "average_height=np.average(height[age==10])\n",
        "print(\"the average height of the person whose age is 10 :\",average_height)\n",
        "#the average height of the person whose age is 10 : 0.3833672856539947\n",
        "average_weight=np.average(weight[age==10])\n",
        "print(\"the average weight of the person whose age is 10 :\",average_weight)\n",
        "# the average weight of the person whose age is 10 : 28.243308450511314"
      ],
      "metadata": {
        "colab": {
          "base_uri": "https://localhost:8080/"
        },
        "id": "HiUubqdqWNRL",
        "outputId": "7bed7715-3bcb-46f7-87b7-b99cd43c6894"
      },
      "execution_count": 18,
      "outputs": [
        {
          "output_type": "stream",
          "name": "stdout",
          "text": [
            "the average height of the person whose age is 10 : 0.3833672856539947\n",
            "the average weight of the person whose age is 10 : 28.243308450511314\n"
          ]
        }
      ]
    },
    {
      "cell_type": "code",
      "source": [
        "#6 What is the total shell weight.\n",
        "shell_weight=train[:,6:7]\n",
        "total_shell_weight=np.sum(shell_weight)\n",
        "print(\"the total shell weight is :\",total_shell_weight)\n",
        "# the total shell weight is : 1326845.8295214002"
      ],
      "metadata": {
        "colab": {
          "base_uri": "https://localhost:8080/"
        },
        "id": "b7OD2qjHWNV7",
        "outputId": "95c31850-3687-4082-f993-33ea3279de91"
      },
      "execution_count": 21,
      "outputs": [
        {
          "output_type": "stream",
          "name": "stdout",
          "text": [
            "the total shell weight is : 1326845.8295214002\n"
          ]
        }
      ]
    },
    {
      "cell_type": "code",
      "source": [
        "#7 How many persons belong to each and every unique age.\n",
        "age=train[:,7:]\n",
        "unique_ages,age_counts=np.unique(age,return_counts=True)\n",
        "print(\"unique ages and counts :\",unique_ages,age_counts)"
      ],
      "metadata": {
        "colab": {
          "base_uri": "https://localhost:8080/"
        },
        "id": "9K_CANwgWNai",
        "outputId": "19f0b31f-85fd-46d0-fba9-b3f4d2cee235"
      },
      "execution_count": 22,
      "outputs": [
        {
          "output_type": "stream",
          "name": "stdout",
          "text": [
            "unique ages and counts : [ 1.  2.  3.  4.  5.  6.  7.  8.  9. 10. 11. 12. 13. 14. 15. 16. 17. 18.\n",
            " 19. 20. 21. 22. 23. 24. 25. 26. 27. 29.] [   46    42   625  2787  5475 12450 18276 26818 32906 30803 23457 12717\n",
            " 10037  6352  4831  3191  2705  1953  1591  1206   721   296   352   110\n",
            "    51    46    99    57]\n"
          ]
        }
      ]
    },
    {
      "cell_type": "code",
      "source": [
        "8 # What is the difference between shucked weight and visua weight\n",
        "shucked_weight=train[:,4:5]\n",
        "visua_wieght=train[:,5:6]\n",
        "difference_weight=shucked_weight-visua_wieght\n",
        "print(\"the difference between shucked weight and visua weight\",difference_weight)\n",
        "# the difference between shucked weight and visua weight [5.9817445 3.855532  4.1106775 ... 2.9199985 5.329706  9.8372765]"
      ],
      "metadata": {
        "colab": {
          "base_uri": "https://localhost:8080/"
        },
        "id": "S2WtFljkWNe9",
        "outputId": "660de745-eba5-475c-b8ee-276d04026934"
      },
      "execution_count": 24,
      "outputs": [
        {
          "output_type": "stream",
          "name": "stdout",
          "text": [
            "the difference between shucked weight and visua weight [[5.9817445]\n",
            " [3.855532 ]\n",
            " [4.1106775]\n",
            " ...\n",
            " [2.9199985]\n",
            " [5.329706 ]\n",
            " [9.8372765]]\n"
          ]
        }
      ]
    },
    {
      "cell_type": "code",
      "source": [
        "average_diff_weight=np.mean(difference_weight)\n",
        "print(\"the average difference between shucked weight and visua weight\",average_diff_weight)\n",
        "# the average difference between shucked weight and visua weight 4.99618929130025"
      ],
      "metadata": {
        "colab": {
          "base_uri": "https://localhost:8080/"
        },
        "id": "DoLhSBquWNjg",
        "outputId": "aa4ba4bd-3f24-4e01-a4aa-a1f182b73ba9"
      },
      "execution_count": 26,
      "outputs": [
        {
          "output_type": "stream",
          "name": "stdout",
          "text": [
            "the average difference between shucked weight and visua weight 4.99618929130025\n"
          ]
        }
      ]
    },
    {
      "cell_type": "code",
      "source": [
        "#9 What is the average height of the persons whose age is between 14 and 19.\n",
        "height=train[:,2:3]\n",
        "age=train[:,7:]\n",
        "average_heights=np.mean(height[(age<=19) & (age>=14)])\n",
        "print(\"the average height of the persons whose age is between 14 and 19 :\",average_heights)\n",
        "# the average height of the persons whose age is between 14 and 19 : 0.41489902051107985"
      ],
      "metadata": {
        "colab": {
          "base_uri": "https://localhost:8080/"
        },
        "id": "ijDH_56kWNnA",
        "outputId": "2ab6dbca-e079-406e-dcd1-1226fbbdfce7"
      },
      "execution_count": 28,
      "outputs": [
        {
          "output_type": "stream",
          "name": "stdout",
          "text": [
            "the average height of the persons whose age is between 14 and 19 : 0.41489902051107985\n"
          ]
        }
      ]
    },
    {
      "cell_type": "code",
      "source": [
        "#10 What is the average weight if we include viscous and shell weight?\n",
        "shell_weight=train[:,6:7]\n",
        "visua_wieght=train[:,5:6]\n",
        "total_weight1=shell_weight+visua_wieght\n",
        "total_average_weight=np.mean(total_weight1)\n",
        "print(\"the average weight if we include viscous and shell weight\",total_average_weight)\n",
        "# the average weight if we include viscous and shell weight 11.62741010435575\n"
      ],
      "metadata": {
        "colab": {
          "base_uri": "https://localhost:8080/"
        },
        "id": "ltcb2OrzaJ30",
        "outputId": "b503a192-78aa-4837-f7cb-0bd19215da67"
      },
      "execution_count": 30,
      "outputs": [
        {
          "output_type": "stream",
          "name": "stdout",
          "text": [
            "the average weight if we include viscous and shell weight 11.62741010435575\n"
          ]
        }
      ]
    },
    {
      "cell_type": "code",
      "source": [],
      "metadata": {
        "id": "lFfWUDfyaJ_6"
      },
      "execution_count": null,
      "outputs": []
    }
  ]
}