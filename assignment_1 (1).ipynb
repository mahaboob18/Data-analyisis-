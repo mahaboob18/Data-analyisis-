{
  "nbformat": 4,
  "nbformat_minor": 0,
  "metadata": {
    "colab": {
      "provenance": []
    },
    "kernelspec": {
      "name": "python3",
      "display_name": "Python 3"
    },
    "language_info": {
      "name": "python"
    }
  },
  "cells": [
    {
      "cell_type": "code",
      "execution_count": 94,
      "metadata": {
        "id": "jLDiMtP0PtdU"
      },
      "outputs": [],
      "source": [
        "import numpy as np"
      ]
    },
    {
      "cell_type": "code",
      "source": [
        "tip_data=np.genfromtxt((\"/content/tipsf (2).csv\"),delimiter=\",\",dtype=None,skip_header=1,encoding=\"utf-8\")"
      ],
      "metadata": {
        "id": "D4B4LVsZecSj"
      },
      "execution_count": 95,
      "outputs": []
    },
    {
      "cell_type": "code",
      "source": [
        "#1 What is the total bill value?\n",
        "total_bill=tip_data[\"f1\"]\n",
        "total_bill=np.sum(total_bill)\n",
        "print(\"the total bill value is : \",total_bill)\n",
        "# the total bill value is :  4827.77"
      ],
      "metadata": {
        "id": "_RXh6OsRP9GY",
        "colab": {
          "base_uri": "https://localhost:8080/"
        },
        "outputId": "f7725f2a-be78-4890-e823-c8513c4564e1"
      },
      "execution_count": 96,
      "outputs": [
        {
          "output_type": "stream",
          "name": "stdout",
          "text": [
            "the total bill value is :  4827.77\n"
          ]
        }
      ]
    },
    {
      "cell_type": "code",
      "source": [
        "#2 What is the total tip value?\n",
        "total_tip1=tip_data[\"f2\"]\n",
        "total_tip=np.sum(total_tip1)\n",
        "print(\"the total tip value is :\",total_tip)\n",
        "# the total tip value is : 731.5799999999999"
      ],
      "metadata": {
        "id": "zhQxbtArP9MO",
        "colab": {
          "base_uri": "https://localhost:8080/"
        },
        "outputId": "d0631cab-0621-478a-d386-1ab4bd3eb7ff"
      },
      "execution_count": 97,
      "outputs": [
        {
          "output_type": "stream",
          "name": "stdout",
          "text": [
            "the total tip value is : 731.5799999999999\n"
          ]
        }
      ]
    },
    {
      "cell_type": "code",
      "source": [
        "#3 Count how many Sunday, Saturday, Thursday,friday,are there.(0 is sunday,1 is saturday,2 is friday,3 is thursday)\n",
        "day=tip_data[\"f5\"]\n",
        "sunday_count=np.sum(day==0)\n",
        "print(\"the count of sundays is : \",sunday_count)\n",
        "# the count of sundays is :  87"
      ],
      "metadata": {
        "id": "Z_dI8jWPP9TO",
        "colab": {
          "base_uri": "https://localhost:8080/"
        },
        "outputId": "8f61444b-ca88-4859-bc71-cd9c1bf485a2"
      },
      "execution_count": 108,
      "outputs": [
        {
          "output_type": "stream",
          "name": "stdout",
          "text": [
            "the count of sundays is :  87\n"
          ]
        }
      ]
    },
    {
      "cell_type": "code",
      "source": [
        "day=tip_data[\"f5\"]\n",
        "saturday_count=np.sum(day==1)\n",
        "print(\"the count of saturdays is : \",saturday_count)\n",
        "# the count of saturdays is :  76"
      ],
      "metadata": {
        "colab": {
          "base_uri": "https://localhost:8080/"
        },
        "id": "sjqDt2ovGq0P",
        "outputId": "0673632e-e708-4ddf-cf0f-c62e7403b865"
      },
      "execution_count": 100,
      "outputs": [
        {
          "output_type": "stream",
          "name": "stdout",
          "text": [
            "the count of saturdays is :  76\n"
          ]
        }
      ]
    },
    {
      "cell_type": "code",
      "source": [
        "day=tip_data[\"f5\"]\n",
        "friday_count=np.sum(day==2)\n",
        "print(\"the count of fridays is : \",friday_count)\n",
        "# the count of fridays is :  62"
      ],
      "metadata": {
        "colab": {
          "base_uri": "https://localhost:8080/"
        },
        "id": "svag4cGIISwj",
        "outputId": "65ee0856-4f72-4eb4-f4bb-8437cf782f5b"
      },
      "execution_count": 98,
      "outputs": [
        {
          "output_type": "stream",
          "name": "stdout",
          "text": [
            "the count of fridays is :  62\n"
          ]
        }
      ]
    },
    {
      "cell_type": "code",
      "source": [
        "day=tip_data[\"f5\"]\n",
        "thurday_count=np.sum(day==3)\n",
        "print(\"the count of thurdays is : \",thurday_count)\n",
        "# the count of thurdays is :  19"
      ],
      "metadata": {
        "colab": {
          "base_uri": "https://localhost:8080/"
        },
        "id": "7hOShoiCIS3a",
        "outputId": "1078f44e-5c99-462a-e98c-0367c530e73f"
      },
      "execution_count": 102,
      "outputs": [
        {
          "output_type": "stream",
          "name": "stdout",
          "text": [
            "the count of thurdays is :  19\n"
          ]
        }
      ]
    },
    {
      "cell_type": "code",
      "source": [
        "unique,counts=np.unique(day,return_counts=True)\n",
        "day_counts=dict(zip(unique,counts))\n",
        "print(\"day counts\",day_counts)"
      ],
      "metadata": {
        "colab": {
          "base_uri": "https://localhost:8080/"
        },
        "id": "mTm18f1eIS9o",
        "outputId": "690afd0f-defa-480a-c1b4-3dab1ab38f66"
      },
      "execution_count": 103,
      "outputs": [
        {
          "output_type": "stream",
          "name": "stdout",
          "text": [
            "day counts {0: 87, 1: 76, 2: 62, 3: 19}\n"
          ]
        }
      ]
    },
    {
      "cell_type": "code",
      "source": [
        "print(\"the sundays counts is :\",day_counts[0])\n",
        "# the sundays counts : is 87\n",
        "print(\"the saturdays counts is :\",day_counts[1])\n",
        " # the saturdays counts is : 76\n",
        "print(\"the fridays counts is :\",day_counts[2])\n",
        "# the fridays counts is : 62\n",
        "print(\"the thusrdays counts is :\",day_counts[3])\n",
        "# the thusrdays counts is : 19\n"
      ],
      "metadata": {
        "colab": {
          "base_uri": "https://localhost:8080/"
        },
        "id": "qweoTCt2KTOL",
        "outputId": "f96e7bc5-29e8-492c-8272-8b9ad127c085"
      },
      "execution_count": 104,
      "outputs": [
        {
          "output_type": "stream",
          "name": "stdout",
          "text": [
            "the sundays counts is : 87\n",
            "the saturdays counts is : 76\n",
            "the fridays counts is : 62\n",
            "the thusrdays counts is : 19\n"
          ]
        }
      ]
    },
    {
      "cell_type": "code",
      "source": [],
      "metadata": {
        "id": "MFBol4atP9Ya"
      },
      "execution_count": 40,
      "outputs": []
    },
    {
      "cell_type": "code",
      "source": [
        "#4 How many smokers are there?\n",
        "smoker=tip_data[\"f4\"]\n",
        "unique1,count1=np.unique(smoker,return_counts=True)\n",
        "smoker_counts=dict(zip(unique1,count1))\n",
        "smoker_counts\n",
        "# here 0 is smoker,1 is non smoker\n",
        "print(\"the total smokers counts is :\",smoker_counts[0])\n",
        "# the total smokers counts is : 151\n",
        "print(\"the total non-smokers counts is \",smoker_counts[1])\n",
        "# the total non-smokers counts is  93"
      ],
      "metadata": {
        "id": "MLgZwitPP9c3",
        "colab": {
          "base_uri": "https://localhost:8080/"
        },
        "outputId": "1f830b2d-e38b-41b2-c476-11e7bc68a748"
      },
      "execution_count": 105,
      "outputs": [
        {
          "output_type": "stream",
          "name": "stdout",
          "text": [
            "the total smokers counts is : 151\n",
            "the total non-smokers counts is  93\n"
          ]
        }
      ]
    },
    {
      "cell_type": "code",
      "source": [
        "#5  What is the average tip given by females and males?\n",
        "sex=tip_data[\"f3\"]\n",
        "# here sex 0 is female and 1 is male\n",
        "female_tip_avg=np.mean(total_tip1[sex==0])\n",
        "print(\" the average tip  of female is : \",female_tip_avg)\n",
        "# the average tip  of female is :  2.8334482758620685"
      ],
      "metadata": {
        "id": "ErHzsmq-P9gh",
        "colab": {
          "base_uri": "https://localhost:8080/"
        },
        "outputId": "819367c6-66c8-4759-c5bc-5e881f53793b"
      },
      "execution_count": 106,
      "outputs": [
        {
          "output_type": "stream",
          "name": "stdout",
          "text": [
            " the average tip  of female is :  2.8334482758620685\n"
          ]
        }
      ]
    },
    {
      "cell_type": "code",
      "source": [
        "male_tip_avg=np.mean(total_tip1[sex==1])\n",
        "print(\"the average tip of male is :\",male_tip_avg)\n",
        "# the average tip of male is : 3.0896178343949043"
      ],
      "metadata": {
        "colab": {
          "base_uri": "https://localhost:8080/"
        },
        "id": "nRd3LTLme-Lt",
        "outputId": "c35df139-50c4-4a27-c23b-d2849e1d0be1"
      },
      "execution_count": 107,
      "outputs": [
        {
          "output_type": "stream",
          "name": "stdout",
          "text": [
            "the average tip of male is : 3.0896178343949043\n"
          ]
        }
      ]
    },
    {
      "cell_type": "code",
      "source": [],
      "metadata": {
        "id": "04onuAk6P9kY"
      },
      "execution_count": 107,
      "outputs": []
    },
    {
      "cell_type": "code",
      "source": [],
      "metadata": {
        "id": "PWCeFFsBgfB1"
      },
      "execution_count": null,
      "outputs": []
    },
    {
      "cell_type": "code",
      "source": [
        "#6 How many males and females are going for dinner and lunch.\n",
        "time=tip_data[\"f6\"]\n",
        "# here 0 is dinner and 1 is lunch\n",
        "female_dinner=np.sum((sex==0) & (time==0))\n",
        "print(\"females going for dinner is :\",female_dinner)\n",
        "# females going for dinner is : 52"
      ],
      "metadata": {
        "id": "e8IVt3ESP9nk",
        "colab": {
          "base_uri": "https://localhost:8080/"
        },
        "outputId": "9a64277c-9295-4999-c2e7-2b185b0b6352"
      },
      "execution_count": 109,
      "outputs": [
        {
          "output_type": "stream",
          "name": "stdout",
          "text": [
            "females going for dinner is : 52\n"
          ]
        }
      ]
    },
    {
      "cell_type": "code",
      "source": [
        "female_lunch=np.sum((sex==0) & (time==1))\n",
        "print(\"females going for lunch is :\",female_lunch)\n",
        "# females going for lunch is : 35"
      ],
      "metadata": {
        "colab": {
          "base_uri": "https://localhost:8080/"
        },
        "id": "bYXNYhbFsCYj",
        "outputId": "72131f2b-be74-4aa1-d146-17dc10847722"
      },
      "execution_count": 110,
      "outputs": [
        {
          "output_type": "stream",
          "name": "stdout",
          "text": [
            "females going for lunch is : 35\n"
          ]
        }
      ]
    },
    {
      "cell_type": "code",
      "source": [
        "male_dinner=np.sum((sex==1) &(time==0))\n",
        "print(\"males going for dinner is :\",male_dinner)\n",
        "# males going for dinner is : 124\n",
        "male_lunch=np.sum((sex==1) & (time==1))\n",
        "print(\"males going for lunch is :\",female_lunch)\n",
        "# males going for lunch is : 35"
      ],
      "metadata": {
        "colab": {
          "base_uri": "https://localhost:8080/"
        },
        "id": "7KahQxG3q_nx",
        "outputId": "66771d75-139b-4b1c-86b5-bee49f4beb18"
      },
      "execution_count": 111,
      "outputs": [
        {
          "output_type": "stream",
          "name": "stdout",
          "text": [
            "males going for dinner is : 124\n",
            "males going for lunch is : 35\n"
          ]
        }
      ]
    },
    {
      "cell_type": "code",
      "source": [
        "#7  What is the min and max tip given?\n",
        "max=tip_data[\"f2\"]\n",
        "max_tip=np.max(max)\n",
        "print(\"maximum tip  is :\",max_tip)"
      ],
      "metadata": {
        "id": "HI1FbDm7P9qz",
        "colab": {
          "base_uri": "https://localhost:8080/"
        },
        "outputId": "dfd68654-e676-4f11-9c61-12d0c86a99c7"
      },
      "execution_count": 48,
      "outputs": [
        {
          "output_type": "stream",
          "name": "stdout",
          "text": [
            "maximum tip  is : 10.0\n"
          ]
        }
      ]
    },
    {
      "cell_type": "code",
      "source": [
        "min=tip_data[\"f2\"]\n",
        "min_tip=np.min(min)\n",
        "print(\"minimum tip is : \",min_tip)"
      ],
      "metadata": {
        "id": "BVfWIrouP9t6",
        "colab": {
          "base_uri": "https://localhost:8080/"
        },
        "outputId": "9ea9be21-d5cc-4e6b-a407-1895e3c80c90"
      },
      "execution_count": 50,
      "outputs": [
        {
          "output_type": "stream",
          "name": "stdout",
          "text": [
            "minimum tip is :  1.0\n"
          ]
        }
      ]
    },
    {
      "cell_type": "code",
      "source": [
        " #8  How much amount has been spent by female and male.\n",
        "female=np.sum(sex==0)\n",
        "total_bill=tip_data[\"f1\"]\n",
        "females_bill=np.sum(total_bill[sex==0])\n",
        "print(\"the total amount spent by females is :\",females_bill)\n",
        "# the total amount spent by females is : 1570.9499999999996"
      ],
      "metadata": {
        "id": "o55n_E5KP9xF",
        "colab": {
          "base_uri": "https://localhost:8080/"
        },
        "outputId": "519806ef-2a26-4bc9-c87c-187a2d0177d9"
      },
      "execution_count": 72,
      "outputs": [
        {
          "output_type": "stream",
          "name": "stdout",
          "text": [
            "the total amount spent by females is : 1570.9499999999996\n"
          ]
        }
      ]
    },
    {
      "cell_type": "code",
      "source": [
        "male=np.sum(sex==0)\n",
        "males_bill=np.sum(total_bill[sex==1])\n",
        "print(\"the total amount spent by male is :\",males_bill)\n",
        "# the total amount spent by male is : 3256.8199999999997"
      ],
      "metadata": {
        "colab": {
          "base_uri": "https://localhost:8080/"
        },
        "id": "nSnxWBF4wMjH",
        "outputId": "95342fb9-74e9-4641-9e4e-684e5f42aac3"
      },
      "execution_count": 73,
      "outputs": [
        {
          "output_type": "stream",
          "name": "stdout",
          "text": [
            "the total amount spent by male is : 3256.8199999999997\n"
          ]
        }
      ]
    },
    {
      "cell_type": "code",
      "source": [
        "#9 Find out the AVG size.\n",
        "size=tip_data[\"f7\"]\n",
        "avg=np.mean(size)\n",
        "print(\"the average size is :\",avg)\n",
        "# the average size is : 2.569672131147541"
      ],
      "metadata": {
        "id": "QUbB6oYWP93t",
        "colab": {
          "base_uri": "https://localhost:8080/"
        },
        "outputId": "ebdb43f2-4ea8-4f85-dc19-cf53cadee990"
      },
      "execution_count": 113,
      "outputs": [
        {
          "output_type": "stream",
          "name": "stdout",
          "text": [
            "the average size is : 2.569672131147541\n"
          ]
        }
      ]
    },
    {
      "cell_type": "code",
      "source": [
        "#10 Find out how many male,female smokers are there.\n",
        "smoker=tip_data[\"f4\"]\n",
        "smokers1=np.sum(smoker==0)\n",
        "female_smokers=np.sum(smoker[sex==0])\n",
        "print(\"the total female smoker are :\",female_smokers)"
      ],
      "metadata": {
        "id": "TXTs-U8hP-Ai",
        "colab": {
          "base_uri": "https://localhost:8080/"
        },
        "outputId": "574bac9b-c617-4f7a-e2c4-a5db135dd837"
      },
      "execution_count": 89,
      "outputs": [
        {
          "output_type": "stream",
          "name": "stdout",
          "text": [
            "the total female smoker are : 33\n"
          ]
        }
      ]
    },
    {
      "cell_type": "code",
      "source": [
        "female_smokers=np.sum((smoker==0) & (sex==0))\n",
        "print(\"the total female smoker are :\",female_smokers)\n",
        "# the total female smoker are : 54"
      ],
      "metadata": {
        "id": "QDZg2vS9P-Dd",
        "colab": {
          "base_uri": "https://localhost:8080/"
        },
        "outputId": "08e9a84f-3d1c-40c1-f0fc-a197daee8dc1"
      },
      "execution_count": 90,
      "outputs": [
        {
          "output_type": "stream",
          "name": "stdout",
          "text": [
            "the total female smoker are : 54\n"
          ]
        }
      ]
    },
    {
      "cell_type": "code",
      "source": [
        "male_smokers=np.sum((smoker==0) & (sex==1))\n",
        "print(\"the total male smoker are :\",male_smokers)\n",
        "# the total male smoker are : 97"
      ],
      "metadata": {
        "colab": {
          "base_uri": "https://localhost:8080/"
        },
        "id": "glYJivul3UfV",
        "outputId": "92cfeccf-0c38-4e55-dc98-02dd0de2ebf0"
      },
      "execution_count": 93,
      "outputs": [
        {
          "output_type": "stream",
          "name": "stdout",
          "text": [
            "the total male smoker are : 97\n"
          ]
        }
      ]
    },
    {
      "cell_type": "code",
      "source": [],
      "metadata": {
        "id": "W8v73n2h3UpG"
      },
      "execution_count": null,
      "outputs": []
    },
    {
      "cell_type": "code",
      "source": [],
      "metadata": {
        "id": "U1n5ZE533UxB"
      },
      "execution_count": null,
      "outputs": []
    },
    {
      "cell_type": "code",
      "source": [],
      "metadata": {
        "id": "_ecrLzIo3U0H"
      },
      "execution_count": null,
      "outputs": []
    },
    {
      "cell_type": "code",
      "source": [],
      "metadata": {
        "id": "fX0A8qJY3U6l"
      },
      "execution_count": null,
      "outputs": []
    },
    {
      "cell_type": "code",
      "source": [],
      "metadata": {
        "id": "P0lp1V6B3U-x"
      },
      "execution_count": null,
      "outputs": []
    },
    {
      "cell_type": "code",
      "source": [],
      "metadata": {
        "id": "Kf12DdiW3VCd"
      },
      "execution_count": null,
      "outputs": []
    }
  ]
}